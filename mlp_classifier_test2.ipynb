{
 "cells": [
  {
   "cell_type": "code",
   "execution_count": 5,
   "metadata": {},
   "outputs": [],
   "source": [
    "import numpy as np\n",
    "from sklearn.neural_network import MLPClassifier\n",
    "from scipy.io.arff import loadarff"
   ]
  },
  {
   "cell_type": "code",
   "execution_count": 6,
   "metadata": {},
   "outputs": [],
   "source": [
    "# Load data from .arff file\n",
    "data, meta = arff.loadarff('C:\\Program Files\\Weka-3-8-6\\data/iris.arff')\n",
    "X = data[meta.names()[:-1]]\n",
    "y = data[meta.names()[-1]]"
   ]
  },
  {
   "cell_type": "code",
   "execution_count": 7,
   "metadata": {},
   "outputs": [
    {
     "data": {
      "text/plain": [
       "array([(5.1, 3.5, 1.4, 0.2, b'Iris-setosa'),\n",
       "       (4.9, 3. , 1.4, 0.2, b'Iris-setosa'),\n",
       "       (4.7, 3.2, 1.3, 0.2, b'Iris-setosa'),\n",
       "       (4.6, 3.1, 1.5, 0.2, b'Iris-setosa'),\n",
       "       (5. , 3.6, 1.4, 0.2, b'Iris-setosa'),\n",
       "       (5.4, 3.9, 1.7, 0.4, b'Iris-setosa'),\n",
       "       (4.6, 3.4, 1.4, 0.3, b'Iris-setosa'),\n",
       "       (5. , 3.4, 1.5, 0.2, b'Iris-setosa'),\n",
       "       (4.4, 2.9, 1.4, 0.2, b'Iris-setosa'),\n",
       "       (4.9, 3.1, 1.5, 0.1, b'Iris-setosa'),\n",
       "       (5.4, 3.7, 1.5, 0.2, b'Iris-setosa'),\n",
       "       (4.8, 3.4, 1.6, 0.2, b'Iris-setosa'),\n",
       "       (4.8, 3. , 1.4, 0.1, b'Iris-setosa'),\n",
       "       (4.3, 3. , 1.1, 0.1, b'Iris-setosa'),\n",
       "       (5.8, 4. , 1.2, 0.2, b'Iris-setosa'),\n",
       "       (5.7, 4.4, 1.5, 0.4, b'Iris-setosa'),\n",
       "       (5.4, 3.9, 1.3, 0.4, b'Iris-setosa'),\n",
       "       (5.1, 3.5, 1.4, 0.3, b'Iris-setosa'),\n",
       "       (5.7, 3.8, 1.7, 0.3, b'Iris-setosa'),\n",
       "       (5.1, 3.8, 1.5, 0.3, b'Iris-setosa'),\n",
       "       (5.4, 3.4, 1.7, 0.2, b'Iris-setosa'),\n",
       "       (5.1, 3.7, 1.5, 0.4, b'Iris-setosa'),\n",
       "       (4.6, 3.6, 1. , 0.2, b'Iris-setosa'),\n",
       "       (5.1, 3.3, 1.7, 0.5, b'Iris-setosa'),\n",
       "       (4.8, 3.4, 1.9, 0.2, b'Iris-setosa'),\n",
       "       (5. , 3. , 1.6, 0.2, b'Iris-setosa'),\n",
       "       (5. , 3.4, 1.6, 0.4, b'Iris-setosa'),\n",
       "       (5.2, 3.5, 1.5, 0.2, b'Iris-setosa'),\n",
       "       (5.2, 3.4, 1.4, 0.2, b'Iris-setosa'),\n",
       "       (4.7, 3.2, 1.6, 0.2, b'Iris-setosa'),\n",
       "       (4.8, 3.1, 1.6, 0.2, b'Iris-setosa'),\n",
       "       (5.4, 3.4, 1.5, 0.4, b'Iris-setosa'),\n",
       "       (5.2, 4.1, 1.5, 0.1, b'Iris-setosa'),\n",
       "       (5.5, 4.2, 1.4, 0.2, b'Iris-setosa'),\n",
       "       (4.9, 3.1, 1.5, 0.1, b'Iris-setosa'),\n",
       "       (5. , 3.2, 1.2, 0.2, b'Iris-setosa'),\n",
       "       (5.5, 3.5, 1.3, 0.2, b'Iris-setosa'),\n",
       "       (4.9, 3.1, 1.5, 0.1, b'Iris-setosa'),\n",
       "       (4.4, 3. , 1.3, 0.2, b'Iris-setosa'),\n",
       "       (5.1, 3.4, 1.5, 0.2, b'Iris-setosa'),\n",
       "       (5. , 3.5, 1.3, 0.3, b'Iris-setosa'),\n",
       "       (4.5, 2.3, 1.3, 0.3, b'Iris-setosa'),\n",
       "       (4.4, 3.2, 1.3, 0.2, b'Iris-setosa'),\n",
       "       (5. , 3.5, 1.6, 0.6, b'Iris-setosa'),\n",
       "       (5.1, 3.8, 1.9, 0.4, b'Iris-setosa'),\n",
       "       (4.8, 3. , 1.4, 0.3, b'Iris-setosa'),\n",
       "       (5.1, 3.8, 1.6, 0.2, b'Iris-setosa'),\n",
       "       (4.6, 3.2, 1.4, 0.2, b'Iris-setosa'),\n",
       "       (5.3, 3.7, 1.5, 0.2, b'Iris-setosa'),\n",
       "       (5. , 3.3, 1.4, 0.2, b'Iris-setosa'),\n",
       "       (7. , 3.2, 4.7, 1.4, b'Iris-versicolor'),\n",
       "       (6.4, 3.2, 4.5, 1.5, b'Iris-versicolor'),\n",
       "       (6.9, 3.1, 4.9, 1.5, b'Iris-versicolor'),\n",
       "       (5.5, 2.3, 4. , 1.3, b'Iris-versicolor'),\n",
       "       (6.5, 2.8, 4.6, 1.5, b'Iris-versicolor'),\n",
       "       (5.7, 2.8, 4.5, 1.3, b'Iris-versicolor'),\n",
       "       (6.3, 3.3, 4.7, 1.6, b'Iris-versicolor'),\n",
       "       (4.9, 2.4, 3.3, 1. , b'Iris-versicolor'),\n",
       "       (6.6, 2.9, 4.6, 1.3, b'Iris-versicolor'),\n",
       "       (5.2, 2.7, 3.9, 1.4, b'Iris-versicolor'),\n",
       "       (5. , 2. , 3.5, 1. , b'Iris-versicolor'),\n",
       "       (5.9, 3. , 4.2, 1.5, b'Iris-versicolor'),\n",
       "       (6. , 2.2, 4. , 1. , b'Iris-versicolor'),\n",
       "       (6.1, 2.9, 4.7, 1.4, b'Iris-versicolor'),\n",
       "       (5.6, 2.9, 3.6, 1.3, b'Iris-versicolor'),\n",
       "       (6.7, 3.1, 4.4, 1.4, b'Iris-versicolor'),\n",
       "       (5.6, 3. , 4.5, 1.5, b'Iris-versicolor'),\n",
       "       (5.8, 2.7, 4.1, 1. , b'Iris-versicolor'),\n",
       "       (6.2, 2.2, 4.5, 1.5, b'Iris-versicolor'),\n",
       "       (5.6, 2.5, 3.9, 1.1, b'Iris-versicolor'),\n",
       "       (5.9, 3.2, 4.8, 1.8, b'Iris-versicolor'),\n",
       "       (6.1, 2.8, 4. , 1.3, b'Iris-versicolor'),\n",
       "       (6.3, 2.5, 4.9, 1.5, b'Iris-versicolor'),\n",
       "       (6.1, 2.8, 4.7, 1.2, b'Iris-versicolor'),\n",
       "       (6.4, 2.9, 4.3, 1.3, b'Iris-versicolor'),\n",
       "       (6.6, 3. , 4.4, 1.4, b'Iris-versicolor'),\n",
       "       (6.8, 2.8, 4.8, 1.4, b'Iris-versicolor'),\n",
       "       (6.7, 3. , 5. , 1.7, b'Iris-versicolor'),\n",
       "       (6. , 2.9, 4.5, 1.5, b'Iris-versicolor'),\n",
       "       (5.7, 2.6, 3.5, 1. , b'Iris-versicolor'),\n",
       "       (5.5, 2.4, 3.8, 1.1, b'Iris-versicolor'),\n",
       "       (5.5, 2.4, 3.7, 1. , b'Iris-versicolor'),\n",
       "       (5.8, 2.7, 3.9, 1.2, b'Iris-versicolor'),\n",
       "       (6. , 2.7, 5.1, 1.6, b'Iris-versicolor'),\n",
       "       (5.4, 3. , 4.5, 1.5, b'Iris-versicolor'),\n",
       "       (6. , 3.4, 4.5, 1.6, b'Iris-versicolor'),\n",
       "       (6.7, 3.1, 4.7, 1.5, b'Iris-versicolor'),\n",
       "       (6.3, 2.3, 4.4, 1.3, b'Iris-versicolor'),\n",
       "       (5.6, 3. , 4.1, 1.3, b'Iris-versicolor'),\n",
       "       (5.5, 2.5, 4. , 1.3, b'Iris-versicolor'),\n",
       "       (5.5, 2.6, 4.4, 1.2, b'Iris-versicolor'),\n",
       "       (6.1, 3. , 4.6, 1.4, b'Iris-versicolor'),\n",
       "       (5.8, 2.6, 4. , 1.2, b'Iris-versicolor'),\n",
       "       (5. , 2.3, 3.3, 1. , b'Iris-versicolor'),\n",
       "       (5.6, 2.7, 4.2, 1.3, b'Iris-versicolor'),\n",
       "       (5.7, 3. , 4.2, 1.2, b'Iris-versicolor'),\n",
       "       (5.7, 2.9, 4.2, 1.3, b'Iris-versicolor'),\n",
       "       (6.2, 2.9, 4.3, 1.3, b'Iris-versicolor'),\n",
       "       (5.1, 2.5, 3. , 1.1, b'Iris-versicolor'),\n",
       "       (5.7, 2.8, 4.1, 1.3, b'Iris-versicolor'),\n",
       "       (6.3, 3.3, 6. , 2.5, b'Iris-virginica'),\n",
       "       (5.8, 2.7, 5.1, 1.9, b'Iris-virginica'),\n",
       "       (7.1, 3. , 5.9, 2.1, b'Iris-virginica'),\n",
       "       (6.3, 2.9, 5.6, 1.8, b'Iris-virginica'),\n",
       "       (6.5, 3. , 5.8, 2.2, b'Iris-virginica'),\n",
       "       (7.6, 3. , 6.6, 2.1, b'Iris-virginica'),\n",
       "       (4.9, 2.5, 4.5, 1.7, b'Iris-virginica'),\n",
       "       (7.3, 2.9, 6.3, 1.8, b'Iris-virginica'),\n",
       "       (6.7, 2.5, 5.8, 1.8, b'Iris-virginica'),\n",
       "       (7.2, 3.6, 6.1, 2.5, b'Iris-virginica'),\n",
       "       (6.5, 3.2, 5.1, 2. , b'Iris-virginica'),\n",
       "       (6.4, 2.7, 5.3, 1.9, b'Iris-virginica'),\n",
       "       (6.8, 3. , 5.5, 2.1, b'Iris-virginica'),\n",
       "       (5.7, 2.5, 5. , 2. , b'Iris-virginica'),\n",
       "       (5.8, 2.8, 5.1, 2.4, b'Iris-virginica'),\n",
       "       (6.4, 3.2, 5.3, 2.3, b'Iris-virginica'),\n",
       "       (6.5, 3. , 5.5, 1.8, b'Iris-virginica'),\n",
       "       (7.7, 3.8, 6.7, 2.2, b'Iris-virginica'),\n",
       "       (7.7, 2.6, 6.9, 2.3, b'Iris-virginica'),\n",
       "       (6. , 2.2, 5. , 1.5, b'Iris-virginica'),\n",
       "       (6.9, 3.2, 5.7, 2.3, b'Iris-virginica'),\n",
       "       (5.6, 2.8, 4.9, 2. , b'Iris-virginica'),\n",
       "       (7.7, 2.8, 6.7, 2. , b'Iris-virginica'),\n",
       "       (6.3, 2.7, 4.9, 1.8, b'Iris-virginica'),\n",
       "       (6.7, 3.3, 5.7, 2.1, b'Iris-virginica'),\n",
       "       (7.2, 3.2, 6. , 1.8, b'Iris-virginica'),\n",
       "       (6.2, 2.8, 4.8, 1.8, b'Iris-virginica'),\n",
       "       (6.1, 3. , 4.9, 1.8, b'Iris-virginica'),\n",
       "       (6.4, 2.8, 5.6, 2.1, b'Iris-virginica'),\n",
       "       (7.2, 3. , 5.8, 1.6, b'Iris-virginica'),\n",
       "       (7.4, 2.8, 6.1, 1.9, b'Iris-virginica'),\n",
       "       (7.9, 3.8, 6.4, 2. , b'Iris-virginica'),\n",
       "       (6.4, 2.8, 5.6, 2.2, b'Iris-virginica'),\n",
       "       (6.3, 2.8, 5.1, 1.5, b'Iris-virginica'),\n",
       "       (6.1, 2.6, 5.6, 1.4, b'Iris-virginica'),\n",
       "       (7.7, 3. , 6.1, 2.3, b'Iris-virginica'),\n",
       "       (6.3, 3.4, 5.6, 2.4, b'Iris-virginica'),\n",
       "       (6.4, 3.1, 5.5, 1.8, b'Iris-virginica'),\n",
       "       (6. , 3. , 4.8, 1.8, b'Iris-virginica'),\n",
       "       (6.9, 3.1, 5.4, 2.1, b'Iris-virginica'),\n",
       "       (6.7, 3.1, 5.6, 2.4, b'Iris-virginica'),\n",
       "       (6.9, 3.1, 5.1, 2.3, b'Iris-virginica'),\n",
       "       (5.8, 2.7, 5.1, 1.9, b'Iris-virginica'),\n",
       "       (6.8, 3.2, 5.9, 2.3, b'Iris-virginica'),\n",
       "       (6.7, 3.3, 5.7, 2.5, b'Iris-virginica'),\n",
       "       (6.7, 3. , 5.2, 2.3, b'Iris-virginica'),\n",
       "       (6.3, 2.5, 5. , 1.9, b'Iris-virginica'),\n",
       "       (6.5, 3. , 5.2, 2. , b'Iris-virginica'),\n",
       "       (6.2, 3.4, 5.4, 2.3, b'Iris-virginica'),\n",
       "       (5.9, 3. , 5.1, 1.8, b'Iris-virginica')],\n",
       "      dtype=[('sepallength', '<f8'), ('sepalwidth', '<f8'), ('petallength', '<f8'), ('petalwidth', '<f8'), ('class', 'S15')])"
      ]
     },
     "execution_count": 7,
     "metadata": {},
     "output_type": "execute_result"
    }
   ],
   "source": [
    "data"
   ]
  },
  {
   "cell_type": "code",
   "execution_count": 8,
   "metadata": {},
   "outputs": [],
   "source": [
    "# convert categorical labels to numerical values\n",
    "class_values = meta[meta.names()[-1]][1]\n",
    "class_dict = {value: i for i, value in enumerate(class_values)}\n",
    "y = np.array([class_dict[label.decode()] for label in y])"
   ]
  },
  {
   "cell_type": "code",
   "execution_count": 11,
   "metadata": {},
   "outputs": [],
   "source": [
    "# create an MLP classifier with two hidden layers of 10 and 5 neurons, respectively\n",
    "clf = MLPClassifier(hidden_layer_sizes=(10, 5), max_iter=1000, solver='adam', random_state=42)\n"
   ]
  },
  {
   "cell_type": "code",
   "execution_count": null,
   "metadata": {},
   "outputs": [],
   "source": [
    "model = MLPClassifier()\n",
    "model.fit(X_train, y_train)\n",
    "print(model)\n",
    "\n",
    "expected_y  = y_test\n",
    "predicted_y = model.predict(X_test)"
   ]
  },
  {
   "cell_type": "code",
   "execution_count": null,
   "metadata": {},
   "outputs": [],
   "source": [
    "# train the model on the data\n",
    "clf.fit(X, y)"
   ]
  },
  {
   "cell_type": "code",
   "execution_count": 13,
   "metadata": {},
   "outputs": [
    {
     "ename": "ValueError",
     "evalue": "\nAll the 5 fits failed.\nIt is very likely that your model is misconfigured.\nYou can try to debug the error by setting error_score='raise'.\n\nBelow are more details about the failures:\n--------------------------------------------------------------------------------\n5 fits failed with the following error:\nTraceback (most recent call last):\n  File \"c:\\Users\\HaziqZikry-T14\\anaconda3\\lib\\site-packages\\sklearn\\model_selection\\_validation.py\", line 686, in _fit_and_score\n    estimator.fit(X_train, y_train, **fit_params)\n  File \"c:\\Users\\HaziqZikry-T14\\anaconda3\\lib\\site-packages\\sklearn\\neural_network\\_multilayer_perceptron.py\", line 747, in fit\n    return self._fit(X, y, incremental=False)\n  File \"c:\\Users\\HaziqZikry-T14\\anaconda3\\lib\\site-packages\\sklearn\\neural_network\\_multilayer_perceptron.py\", line 437, in _fit\n    X, y = self._validate_input(X, y, incremental, reset=first_pass)\n  File \"c:\\Users\\HaziqZikry-T14\\anaconda3\\lib\\site-packages\\sklearn\\neural_network\\_multilayer_perceptron.py\", line 1087, in _validate_input\n    X, y = self._validate_data(\n  File \"c:\\Users\\HaziqZikry-T14\\anaconda3\\lib\\site-packages\\sklearn\\base.py\", line 565, in _validate_data\n    X, y = check_X_y(X, y, **check_params)\n  File \"c:\\Users\\HaziqZikry-T14\\anaconda3\\lib\\site-packages\\sklearn\\utils\\validation.py\", line 1106, in check_X_y\n    X = check_array(\n  File \"c:\\Users\\HaziqZikry-T14\\anaconda3\\lib\\site-packages\\sklearn\\utils\\validation.py\", line 879, in check_array\n    array = _asarray_with_order(array, order=order, dtype=dtype, xp=xp)\n  File \"c:\\Users\\HaziqZikry-T14\\anaconda3\\lib\\site-packages\\sklearn\\utils\\_array_api.py\", line 185, in _asarray_with_order\n    array = numpy.asarray(array, order=order, dtype=dtype)\nTypeError: Cannot cast array data from dtype({'names': ['sepallength', 'sepalwidth', 'petallength', 'petalwidth'], 'formats': ['<f8', '<f8', '<f8', '<f8'], 'offsets': [0, 8, 16, 24], 'itemsize': 47}) to dtype('float64') according to the rule 'unsafe'\n",
     "output_type": "error",
     "traceback": [
      "\u001b[1;31m---------------------------------------------------------------------------\u001b[0m",
      "\u001b[1;31mValueError\u001b[0m                                Traceback (most recent call last)",
      "Cell \u001b[1;32mIn[13], line 3\u001b[0m\n\u001b[0;32m      1\u001b[0m \u001b[39m# evaluate the performance of the model using cross-validation\u001b[39;00m\n\u001b[0;32m      2\u001b[0m \u001b[39mfrom\u001b[39;00m \u001b[39msklearn\u001b[39;00m\u001b[39m.\u001b[39;00m\u001b[39mmodel_selection\u001b[39;00m \u001b[39mimport\u001b[39;00m cross_val_score\n\u001b[1;32m----> 3\u001b[0m scores \u001b[39m=\u001b[39m cross_val_score(clf, X, y, cv\u001b[39m=\u001b[39;49m\u001b[39m5\u001b[39;49m)\n\u001b[0;32m      4\u001b[0m \u001b[39mprint\u001b[39m(\u001b[39m'\u001b[39m\u001b[39mAccuracy: \u001b[39m\u001b[39m{:.2f}\u001b[39;00m\u001b[39m (+/- \u001b[39m\u001b[39m{:.2f}\u001b[39;00m\u001b[39m)\u001b[39m\u001b[39m'\u001b[39m\u001b[39m.\u001b[39mformat(scores\u001b[39m.\u001b[39mmean(), scores\u001b[39m.\u001b[39mstd() \u001b[39m*\u001b[39m \u001b[39m2\u001b[39m))\n",
      "File \u001b[1;32mc:\\Users\\HaziqZikry-T14\\anaconda3\\lib\\site-packages\\sklearn\\model_selection\\_validation.py:515\u001b[0m, in \u001b[0;36mcross_val_score\u001b[1;34m(estimator, X, y, groups, scoring, cv, n_jobs, verbose, fit_params, pre_dispatch, error_score)\u001b[0m\n\u001b[0;32m    512\u001b[0m \u001b[39m# To ensure multimetric format is not supported\u001b[39;00m\n\u001b[0;32m    513\u001b[0m scorer \u001b[39m=\u001b[39m check_scoring(estimator, scoring\u001b[39m=\u001b[39mscoring)\n\u001b[1;32m--> 515\u001b[0m cv_results \u001b[39m=\u001b[39m cross_validate(\n\u001b[0;32m    516\u001b[0m     estimator\u001b[39m=\u001b[39;49mestimator,\n\u001b[0;32m    517\u001b[0m     X\u001b[39m=\u001b[39;49mX,\n\u001b[0;32m    518\u001b[0m     y\u001b[39m=\u001b[39;49my,\n\u001b[0;32m    519\u001b[0m     groups\u001b[39m=\u001b[39;49mgroups,\n\u001b[0;32m    520\u001b[0m     scoring\u001b[39m=\u001b[39;49m{\u001b[39m\"\u001b[39;49m\u001b[39mscore\u001b[39;49m\u001b[39m\"\u001b[39;49m: scorer},\n\u001b[0;32m    521\u001b[0m     cv\u001b[39m=\u001b[39;49mcv,\n\u001b[0;32m    522\u001b[0m     n_jobs\u001b[39m=\u001b[39;49mn_jobs,\n\u001b[0;32m    523\u001b[0m     verbose\u001b[39m=\u001b[39;49mverbose,\n\u001b[0;32m    524\u001b[0m     fit_params\u001b[39m=\u001b[39;49mfit_params,\n\u001b[0;32m    525\u001b[0m     pre_dispatch\u001b[39m=\u001b[39;49mpre_dispatch,\n\u001b[0;32m    526\u001b[0m     error_score\u001b[39m=\u001b[39;49merror_score,\n\u001b[0;32m    527\u001b[0m )\n\u001b[0;32m    528\u001b[0m \u001b[39mreturn\u001b[39;00m cv_results[\u001b[39m\"\u001b[39m\u001b[39mtest_score\u001b[39m\u001b[39m\"\u001b[39m]\n",
      "File \u001b[1;32mc:\\Users\\HaziqZikry-T14\\anaconda3\\lib\\site-packages\\sklearn\\model_selection\\_validation.py:285\u001b[0m, in \u001b[0;36mcross_validate\u001b[1;34m(estimator, X, y, groups, scoring, cv, n_jobs, verbose, fit_params, pre_dispatch, return_train_score, return_estimator, error_score)\u001b[0m\n\u001b[0;32m    265\u001b[0m parallel \u001b[39m=\u001b[39m Parallel(n_jobs\u001b[39m=\u001b[39mn_jobs, verbose\u001b[39m=\u001b[39mverbose, pre_dispatch\u001b[39m=\u001b[39mpre_dispatch)\n\u001b[0;32m    266\u001b[0m results \u001b[39m=\u001b[39m parallel(\n\u001b[0;32m    267\u001b[0m     delayed(_fit_and_score)(\n\u001b[0;32m    268\u001b[0m         clone(estimator),\n\u001b[1;32m   (...)\u001b[0m\n\u001b[0;32m    282\u001b[0m     \u001b[39mfor\u001b[39;00m train, test \u001b[39min\u001b[39;00m cv\u001b[39m.\u001b[39msplit(X, y, groups)\n\u001b[0;32m    283\u001b[0m )\n\u001b[1;32m--> 285\u001b[0m _warn_or_raise_about_fit_failures(results, error_score)\n\u001b[0;32m    287\u001b[0m \u001b[39m# For callabe scoring, the return type is only know after calling. If the\u001b[39;00m\n\u001b[0;32m    288\u001b[0m \u001b[39m# return type is a dictionary, the error scores can now be inserted with\u001b[39;00m\n\u001b[0;32m    289\u001b[0m \u001b[39m# the correct key.\u001b[39;00m\n\u001b[0;32m    290\u001b[0m \u001b[39mif\u001b[39;00m callable(scoring):\n",
      "File \u001b[1;32mc:\\Users\\HaziqZikry-T14\\anaconda3\\lib\\site-packages\\sklearn\\model_selection\\_validation.py:367\u001b[0m, in \u001b[0;36m_warn_or_raise_about_fit_failures\u001b[1;34m(results, error_score)\u001b[0m\n\u001b[0;32m    360\u001b[0m \u001b[39mif\u001b[39;00m num_failed_fits \u001b[39m==\u001b[39m num_fits:\n\u001b[0;32m    361\u001b[0m     all_fits_failed_message \u001b[39m=\u001b[39m (\n\u001b[0;32m    362\u001b[0m         \u001b[39mf\u001b[39m\u001b[39m\"\u001b[39m\u001b[39m\\n\u001b[39;00m\u001b[39mAll the \u001b[39m\u001b[39m{\u001b[39;00mnum_fits\u001b[39m}\u001b[39;00m\u001b[39m fits failed.\u001b[39m\u001b[39m\\n\u001b[39;00m\u001b[39m\"\u001b[39m\n\u001b[0;32m    363\u001b[0m         \u001b[39m\"\u001b[39m\u001b[39mIt is very likely that your model is misconfigured.\u001b[39m\u001b[39m\\n\u001b[39;00m\u001b[39m\"\u001b[39m\n\u001b[0;32m    364\u001b[0m         \u001b[39m\"\u001b[39m\u001b[39mYou can try to debug the error by setting error_score=\u001b[39m\u001b[39m'\u001b[39m\u001b[39mraise\u001b[39m\u001b[39m'\u001b[39m\u001b[39m.\u001b[39m\u001b[39m\\n\u001b[39;00m\u001b[39m\\n\u001b[39;00m\u001b[39m\"\u001b[39m\n\u001b[0;32m    365\u001b[0m         \u001b[39mf\u001b[39m\u001b[39m\"\u001b[39m\u001b[39mBelow are more details about the failures:\u001b[39m\u001b[39m\\n\u001b[39;00m\u001b[39m{\u001b[39;00mfit_errors_summary\u001b[39m}\u001b[39;00m\u001b[39m\"\u001b[39m\n\u001b[0;32m    366\u001b[0m     )\n\u001b[1;32m--> 367\u001b[0m     \u001b[39mraise\u001b[39;00m \u001b[39mValueError\u001b[39;00m(all_fits_failed_message)\n\u001b[0;32m    369\u001b[0m \u001b[39melse\u001b[39;00m:\n\u001b[0;32m    370\u001b[0m     some_fits_failed_message \u001b[39m=\u001b[39m (\n\u001b[0;32m    371\u001b[0m         \u001b[39mf\u001b[39m\u001b[39m\"\u001b[39m\u001b[39m\\n\u001b[39;00m\u001b[39m{\u001b[39;00mnum_failed_fits\u001b[39m}\u001b[39;00m\u001b[39m fits failed out of a total of \u001b[39m\u001b[39m{\u001b[39;00mnum_fits\u001b[39m}\u001b[39;00m\u001b[39m.\u001b[39m\u001b[39m\\n\u001b[39;00m\u001b[39m\"\u001b[39m\n\u001b[0;32m    372\u001b[0m         \u001b[39m\"\u001b[39m\u001b[39mThe score on these train-test partitions for these parameters\u001b[39m\u001b[39m\"\u001b[39m\n\u001b[1;32m   (...)\u001b[0m\n\u001b[0;32m    376\u001b[0m         \u001b[39mf\u001b[39m\u001b[39m\"\u001b[39m\u001b[39mBelow are more details about the failures:\u001b[39m\u001b[39m\\n\u001b[39;00m\u001b[39m{\u001b[39;00mfit_errors_summary\u001b[39m}\u001b[39;00m\u001b[39m\"\u001b[39m\n\u001b[0;32m    377\u001b[0m     )\n",
      "\u001b[1;31mValueError\u001b[0m: \nAll the 5 fits failed.\nIt is very likely that your model is misconfigured.\nYou can try to debug the error by setting error_score='raise'.\n\nBelow are more details about the failures:\n--------------------------------------------------------------------------------\n5 fits failed with the following error:\nTraceback (most recent call last):\n  File \"c:\\Users\\HaziqZikry-T14\\anaconda3\\lib\\site-packages\\sklearn\\model_selection\\_validation.py\", line 686, in _fit_and_score\n    estimator.fit(X_train, y_train, **fit_params)\n  File \"c:\\Users\\HaziqZikry-T14\\anaconda3\\lib\\site-packages\\sklearn\\neural_network\\_multilayer_perceptron.py\", line 747, in fit\n    return self._fit(X, y, incremental=False)\n  File \"c:\\Users\\HaziqZikry-T14\\anaconda3\\lib\\site-packages\\sklearn\\neural_network\\_multilayer_perceptron.py\", line 437, in _fit\n    X, y = self._validate_input(X, y, incremental, reset=first_pass)\n  File \"c:\\Users\\HaziqZikry-T14\\anaconda3\\lib\\site-packages\\sklearn\\neural_network\\_multilayer_perceptron.py\", line 1087, in _validate_input\n    X, y = self._validate_data(\n  File \"c:\\Users\\HaziqZikry-T14\\anaconda3\\lib\\site-packages\\sklearn\\base.py\", line 565, in _validate_data\n    X, y = check_X_y(X, y, **check_params)\n  File \"c:\\Users\\HaziqZikry-T14\\anaconda3\\lib\\site-packages\\sklearn\\utils\\validation.py\", line 1106, in check_X_y\n    X = check_array(\n  File \"c:\\Users\\HaziqZikry-T14\\anaconda3\\lib\\site-packages\\sklearn\\utils\\validation.py\", line 879, in check_array\n    array = _asarray_with_order(array, order=order, dtype=dtype, xp=xp)\n  File \"c:\\Users\\HaziqZikry-T14\\anaconda3\\lib\\site-packages\\sklearn\\utils\\_array_api.py\", line 185, in _asarray_with_order\n    array = numpy.asarray(array, order=order, dtype=dtype)\nTypeError: Cannot cast array data from dtype({'names': ['sepallength', 'sepalwidth', 'petallength', 'petalwidth'], 'formats': ['<f8', '<f8', '<f8', '<f8'], 'offsets': [0, 8, 16, 24], 'itemsize': 47}) to dtype('float64') according to the rule 'unsafe'\n"
     ]
    }
   ],
   "source": [
    "# evaluate the performance of the model using cross-validation\n",
    "from sklearn.model_selection import cross_val_score\n",
    "scores = cross_val_score(clf, X, y, cv=5)\n",
    "print('Accuracy: {:.2f} (+/- {:.2f})'.format(scores.mean(), scores.std() * 2))"
   ]
  }
 ],
 "metadata": {
  "kernelspec": {
   "display_name": "base",
   "language": "python",
   "name": "python3"
  },
  "language_info": {
   "codemirror_mode": {
    "name": "ipython",
    "version": 3
   },
   "file_extension": ".py",
   "mimetype": "text/x-python",
   "name": "python",
   "nbconvert_exporter": "python",
   "pygments_lexer": "ipython3",
   "version": "3.10.9"
  },
  "orig_nbformat": 4
 },
 "nbformat": 4,
 "nbformat_minor": 2
}
